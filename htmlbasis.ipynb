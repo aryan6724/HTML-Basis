{
  "nbformat": 4,
  "nbformat_minor": 0,
  "metadata": {
    "colab": {
      "provenance": []
    },
    "kernelspec": {
      "name": "python3",
      "display_name": "Python 3"
    },
    "language_info": {
      "name": "python"
    }
  },
  "cells": [
    {
      "cell_type": "markdown",
      "source": [
        "# HTML Basis\n",
        "\n"
      ],
      "metadata": {
        "id": "5yZZjqHQYNkF"
      }
    },
    {
      "cell_type": "markdown",
      "source": [
        "1. Explain the basic structure of an HTML page. Why is it important to follow\n",
        "this structure?\n",
        "  - A basis HTML page is composed of several key element nested within one another.\n",
        "   - **DOCTYPE html**: This declaration defines the document type and version of HTML, which helps the browser render the page correctly.\n",
        "   - **html**: This is the root element that encloses all other element of the page.\n",
        "   - **head**: This section contain metadata about the HTML Document. This information is not displayed on the page itself but is used by browser and search engines.\n",
        "   - **title**: Sets the title of the page which appear in the browser tab or window title bar.\n",
        "   - **body**: This is where all the visible content of the web page lives. This includes headings, paragraphs, images, links, and more.\n",
        "\n",
        "-  **This Structure is important for several reasons:**\n",
        "   - **Browser Rendering**: Web browser rely on this structure to parse and render the page correctly. Without it, the browser might not display the content as intended or it could fail to display it at all.\n",
        "   - **Accessibility**: This structre helps screen readers and other assistive technologies understand the logical flow of the content.\n",
        "   - **Search Engine Optimization (SEO)**: search Engines like Google use the HTML structure to understand the content and its hierachy.\n",
        "   - Maintainability and Collaboration: A Standard structre makes the code easier to read, understand, and maintain, especially when working in a team. Developers can quickly locate and modify specific sections of the page.\n",
        "\n"
      ],
      "metadata": {
        "id": "S2dGbcr9Y2wm"
      }
    },
    {
      "cell_type": "markdown",
      "source": [
        "2. You’re building a small personal profile page. Which HTML tags will you\n",
        "use to highlight your name as a heading, describe yourself in a paragraph, and\n",
        "emphasize a key skill?\n",
        "    \n",
        " - To build a personal profile page, you'll use specific HTML tag to structure your content.\n",
        " - **Heading**: To Highlight your name as amain heading, you'll use the h1 tag. This is the top-level heading and is typically used for the most important heading on a page. For Example:\n",
        "\n",
        "\n",
        "```\n",
        "<h1>Your Name</h1>\n",
        "```\n",
        "- **Paragraph**: To describe yourself in a paragraph you'll use the **p** tag. This tag is used for standard paragraph of text. For Example:\n",
        "\n",
        "\n",
        "```\n",
        "<p>A brief description of yourself.</p>\n",
        "```\n",
        "- **Emphasized Text**: To emphasize a key skill, you can use either the **strong** tag for strong importance or the **em** tag for emphasis. the **strong** tag is often rendered as bold, while the **em** tag is typically italicied. For Example:\n",
        "\n",
        "\n",
        "```\n",
        "<p>My key skill is <strong>Web Development</strong>.</p>\n",
        "```\n",
        "\n",
        "\n",
        "\n"
      ],
      "metadata": {
        "id": "9WgnmdiYmJpn"
      }
    },
    {
      "cell_type": "markdown",
      "source": [
        "3. Look at the code below. Can you find and fix the mistake?\n",
        "\n",
        "\n",
        "```\n",
        "<!-- This is an HTML comment\n",
        "<h1>Welcome to my website</h1>\n",
        "```\n",
        "\n",
        "- The error is that the comment is not closing:\n",
        "\n",
        "\n",
        "\n",
        "```\n",
        "<!-- This is an HTML comment-->\n",
        "<h1>Welcome to my website</h1>\n",
        "```\n",
        "\n",
        "\n",
        "\n"
      ],
      "metadata": {
        "id": "xUovVB0ZroZt"
      }
    },
    {
      "cell_type": "markdown",
      "source": [
        "4. You’re creating a form that asks the user to enter their name, select their\n",
        "country from a list, and click a button to submit. Write the HTML code for this.\n",
        "\n",
        "\n",
        " - I can create a HTML file for you that includes a form for thr user to enter their name, select a country and submit the information.\n",
        "\n",
        "\n",
        "\n",
        "```\n",
        "<!DOCTYPE html>\n",
        "<html lang=\"en\">\n",
        "<head>\n",
        "    <meta charset=\"UTF-8\">\n",
        "    <meta name=\"viewport\" content=\"width=device-width, initial-scale=1.0\">\n",
        "    <title>Simple User Form</title>\n",
        "</head>\n",
        "<body>\n",
        "<h2>User Information Form</h2>\n",
        "<form action=\"#\" method=\"post\">\n",
        "\n",
        " <!-- Name Input -->\n",
        "    <label for=\"name\">Enter your name:</label>\n",
        "    <input type=\"text\" id=\"name\" name=\"name\" required>\n",
        "    <br><br>\n",
        "\n",
        "    <!-- Country Selection -->\n",
        "    <label for=\"country\">Select your country:</label>\n",
        "    <select id=\"country\" name=\"country\" required>\n",
        "      <option value=\"\">--Select a country--</option>\n",
        "      <option value=\"india\">India</option>\n",
        "      <option value=\"usa\">United States</option>\n",
        "      <option value=\"uk\">United Kingdom</option>\n",
        "      <option value=\"canada\">Canada</option>\n",
        "      <option value=\"australia\">Australia</option>\n",
        "    </select>\n",
        "    <br><br>\n",
        "\n",
        "    <!-- Submit Button -->\n",
        "    <button type=\"submit\">Submit</button>\n",
        "  </form>\n",
        "</body>\n",
        "</html>\n",
        "\n",
        "    \n",
        "</body>\n",
        "</html>\n",
        "\n",
        "```\n",
        "\n"
      ],
      "metadata": {
        "id": "Rtrgj2aas7U9"
      }
    },
    {
      "cell_type": "markdown",
      "source": [
        "5. Write short HTML code to show your favorite fruits in a bulleted list and\n",
        "your top 3 programming languages in a numbered list.\n",
        "\n",
        "\n",
        "Answer:\n",
        "\n",
        "\n",
        "\n",
        "```\n",
        "<!DOCTYPE html>\n",
        "<html lang=\"en\">\n",
        "<head>\n",
        "    <meta charset=\"UTF-8\">\n",
        "    <meta name=\"viewport\" content=\"width=device-width, initial-scale=1.0\">\n",
        "    <title>Lists Examples</title>\n",
        "</head>\n",
        "<body>\n",
        "   <h2>My Favourite Fruits</h2>\n",
        "   <ul>\n",
        "   <li>Orange</li>\n",
        "   <li>Apple</li>\n",
        "   <li>Mango</li>\n",
        "   <li>Grapes</li>\n",
        "   </ul>\n",
        "\n",
        "   <h2>My top 3 Programming Languages</h2>\n",
        "   <ol>\n",
        "   <li>Python</li>\n",
        "   <li>HTML</li>\n",
        "   <li>CSS</li>\n",
        "   </ol>\n",
        "</body>\n",
        "</html>\n",
        "\n",
        "```\n",
        "\n",
        "\n",
        "\n",
        "\n",
        "\n",
        "\n"
      ],
      "metadata": {
        "id": "MA6KkLEY1JjY"
      }
    },
    {
      "cell_type": "markdown",
      "source": [
        "6. Ravi wants to leave a note in his HTML file so that only other developers\n",
        "can see it, not the users on the website. How should he do this? Why are such notes useful?\n",
        "\n",
        " - In HTML, Ravi Can Leave a note called a comment using this syntax:\n",
        "\n",
        "\n",
        "\n",
        "```\n",
        "<!-- This is a Comment. It will not be shown on the webpage -->\n",
        "\n",
        "```\n",
        "\n",
        " - They help developers understand the code later.\n",
        " - Useful the team projects.\n",
        " - Can leave remainder or TODOs for future improvements.\n",
        " - They do not appear in the browser for the user, only in the source code.\n",
        "\n",
        "\n",
        "\n"
      ],
      "metadata": {
        "id": "ffc_DqC63sQf"
      }
    },
    {
      "cell_type": "markdown",
      "source": [
        "7. : Here’s a form snippet. Can you spot the error and rewrite the correct\n",
        "version?\n",
        "\n",
        "\n",
        "```\n",
        "<form>\n",
        " <input name=\"email\">\n",
        " <select>\n",
        " <option>India</option>\n",
        " </select>\n",
        " <button>Send</buton>\n",
        "</form>\n",
        "```\n",
        "\n",
        "Answer:\n",
        "\n",
        "- Missing type attribute in the **input** tag (e.g., type=\"email\").\n",
        "\n",
        "- The **select** tag is missing a name attribute.\n",
        "\n",
        "- The closing tag for the **button** element is incorrectly written as **/buton** instead of **/button**\n",
        "\n",
        "\n",
        "\n",
        "```\n",
        "<form>\n",
        "  <input type=\"email\" name=\"email\">\n",
        "  <select name=\"country\">\n",
        "    <option>India</option>\n",
        "  </select>\n",
        "  <button type=\"submit\">Send</button>\n",
        "</form>\n",
        "\n",
        "```\n",
        "\n",
        "\n",
        "\n"
      ],
      "metadata": {
        "id": "CJwjvc908nj-"
      }
    }
  ]
}